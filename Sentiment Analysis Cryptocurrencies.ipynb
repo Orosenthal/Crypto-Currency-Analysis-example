{
 "cells": [
  {
   "cell_type": "markdown",
   "metadata": {},
   "source": [
    "# Sentiment Analysis on Cryptocurrencies using Twitter tweets"
   ]
  },
  {
   "cell_type": "code",
   "execution_count": 1,
   "metadata": {},
   "outputs": [],
   "source": [
    "import pandas as pd\n",
    "import numpy as np\n",
    "import matplotlib.pyplot as plt\n",
    "import seaborn as sns\n",
    "import tweepy\n",
    "from textblob import TextBlob\n",
    "import configor\n",
    "import re\n",
    "%matplotlib inline\n",
    "\n",
    "import warnings\n",
    "warnings.filterwarnings('ignore')"
   ]
  },
  {
   "cell_type": "code",
   "execution_count": 2,
   "metadata": {
    "collapsed": true
   },
   "outputs": [],
   "source": [
    "APP_KEY = configor.APP_KEY\n",
    "APP_SECRET = configor.APP_SECRET\n",
    "TOKEN = configor.TOKEN\n",
    "TOKEN_SECRET = configor.TOKEN_SECRET"
   ]
  },
  {
   "cell_type": "code",
   "execution_count": 3,
   "metadata": {
    "collapsed": true
   },
   "outputs": [],
   "source": [
    "auth = tweepy.OAuthHandler(APP_KEY, APP_SECRET)\n",
    "auth.set_access_token(TOKEN,TOKEN_SECRET)\n",
    "api= tweepy.API(auth)"
   ]
  },
  {
   "cell_type": "code",
   "execution_count": 4,
   "metadata": {
    "collapsed": true
   },
   "outputs": [],
   "source": [
    "def clean_tweet(tweet):\n",
    "    return ' '.join(re.sub(\"(@[A-Za-z0-9]+)|([^0-9A-Za-z \\t])|(\\w+:\\/\\/\\S+)\", \" \", tweet).split())\n",
    "\n",
    "def analize_sentiment(tweet):\n",
    "    analysis = TextBlob(clean_tweet(tweet))\n",
    "    if analysis.sentiment.polarity > 0:\n",
    "        return 1\n",
    "    elif analysis.sentiment.polarity == 0:\n",
    "        return 0\n",
    "    else:\n",
    "        return -1"
   ]
  },
  {
   "cell_type": "code",
   "execution_count": 5,
   "metadata": {},
   "outputs": [
    {
     "data": {
      "text/plain": [
       "['Bitcoin',\n",
       " 'Ethereum',\n",
       " 'XRP',\n",
       " 'Bitcoin Cash',\n",
       " 'EOS',\n",
       " 'Stellar',\n",
       " 'Litecoin',\n",
       " 'Tether',\n",
       " 'Cardano',\n",
       " 'Monero']"
      ]
     },
     "execution_count": 5,
     "metadata": {},
     "output_type": "execute_result"
    }
   ],
   "source": [
    "key_words = ['Bitcoin','Ethereum','XRP','Bitcoin Cash','EOS','Stellar','Litecoin','Tether','Cardano','Monero']\n",
    "key_words"
   ]
  },
  {
   "cell_type": "code",
   "execution_count": 6,
   "metadata": {},
   "outputs": [],
   "source": [
    "datac = pd.DataFrame()\n",
    "for i in range(len(key_words)):\n",
    "    tweets = tweepy.Cursor(api.search, q=key_words[i]).items(100)\n",
    "    tweets_data = pd.DataFrame(data=[clean_tweet(tweet.text) for tweet in tweets], columns=[key_words[i]])\n",
    "    datac = pd.concat([datac,tweets_data], axis=1)"
   ]
  },
  {
   "cell_type": "code",
   "execution_count": 7,
   "metadata": {},
   "outputs": [
    {
     "data": {
      "text/plain": [
       "(100, 10)"
      ]
     },
     "execution_count": 7,
     "metadata": {},
     "output_type": "execute_result"
    }
   ],
   "source": [
    "datac.shape"
   ]
  },
  {
   "cell_type": "code",
   "execution_count": 8,
   "metadata": {
    "scrolled": false
   },
   "outputs": [
    {
     "data": {
      "text/html": [
       "<div>\n",
       "<style scoped>\n",
       "    .dataframe tbody tr th:only-of-type {\n",
       "        vertical-align: middle;\n",
       "    }\n",
       "\n",
       "    .dataframe tbody tr th {\n",
       "        vertical-align: top;\n",
       "    }\n",
       "\n",
       "    .dataframe thead th {\n",
       "        text-align: right;\n",
       "    }\n",
       "</style>\n",
       "<table border=\"1\" class=\"dataframe\">\n",
       "  <thead>\n",
       "    <tr style=\"text-align: right;\">\n",
       "      <th></th>\n",
       "      <th>Bitcoin</th>\n",
       "      <th>Ethereum</th>\n",
       "      <th>XRP</th>\n",
       "      <th>Bitcoin Cash</th>\n",
       "      <th>EOS</th>\n",
       "      <th>Stellar</th>\n",
       "      <th>Litecoin</th>\n",
       "      <th>Tether</th>\n",
       "      <th>Cardano</th>\n",
       "      <th>Monero</th>\n",
       "    </tr>\n",
       "  </thead>\n",
       "  <tbody>\n",
       "    <tr>\n",
       "      <th>0</th>\n",
       "      <td>Moving on to sealed case 19 17 Now case no 1 1...</td>\n",
       "      <td>RT Tron TRX Continues Market Explosion Floods ...</td>\n",
       "      <td>RT Boom</td>\n",
       "      <td>RT C4fe Today I found the WORST Bitcoin ATM in...</td>\n",
       "      <td>235 DApps and 3 5 Billion in Transactions Prom...</td>\n",
       "      <td>RT My department is making sure student evalua...</td>\n",
       "      <td>LitecoinFam PayWithLitecoin TheLitecoinApp Ign...</td>\n",
       "      <td>RT My next Samus video I ll be showcasing this...</td>\n",
       "      <td>j meinti s s tekur lengri t ma v verri v lb na...</td>\n",
       "      <td>RT The Monero Coffee Chat starts now</td>\n",
       "    </tr>\n",
       "    <tr>\n",
       "      <th>1</th>\n",
       "      <td>LocalBitcoins Hacked bitcoin altcoin ico</td>\n",
       "      <td>RT This is why you should always be civil with...</td>\n",
       "      <td>RT Giving away 300 worth of Bitcoin Retweet an...</td>\n",
       "      <td>RT C4fe Today I found the WORST Bitcoin ATM in...</td>\n",
       "      <td>Prices update in USDT 1 hour EOS 2 42 0 12 ADA...</td>\n",
       "      <td>I hope everyone is having a stellar Saturday T...</td>\n",
       "      <td>LitecoinFam PayWithLitecoin TheLitecoinApp Ign...</td>\n",
       "      <td>RT Quand les astronautes d Apollo 17 installai...</td>\n",
       "      <td>crypto gets 4words or less Cardano ADA Layered...</td>\n",
       "      <td>What an endorsement for Monero</td>\n",
       "    </tr>\n",
       "    <tr>\n",
       "      <th>2</th>\n",
       "      <td>RT Imagine you have a vault full of gold that ...</td>\n",
       "      <td>BeLLCoin BeLLPlatform BeLLDEX blockchain ether...</td>\n",
       "      <td>Stupid XRP shillers fuck that cult</td>\n",
       "      <td>RT Me We are glad to announce that Exrates exc...</td>\n",
       "      <td>RT charlie 400 000 VEY Giveaway worth 240 Foll...</td>\n",
       "      <td>I ve seen other journos do a stellar job of th...</td>\n",
       "      <td>RT Since noticing it s mining profitability wa...</td>\n",
       "      <td>RT I surrender to the wind like a kite without...</td>\n",
       "      <td>My lambo with bitcoin Register Now amp Start B...</td>\n",
       "      <td>Libre y doble Monero</td>\n",
       "    </tr>\n",
       "    <tr>\n",
       "      <th>3</th>\n",
       "      <td>RT Giving away 300 worth of Bitcoin Retweet an...</td>\n",
       "      <td>Buy GHT token here GHT explainer Telegram group</td>\n",
       "      <td>RT Is the easiest way for people in the states...</td>\n",
       "      <td>RT BITCOIN X BTX amp CITRON CASH XCT Holders a...</td>\n",
       "      <td>Tron battle with Eos over No 5 spot on CMC COM...</td>\n",
       "      <td>RT A STELLAR concert performance film by the h...</td>\n",
       "      <td>RT Website github slack coincodex</td>\n",
       "      <td>ePortfolio pedagogies curriculum lend themselv...</td>\n",
       "      <td>RT Bitcoiners be like Register Now amp Start B...</td>\n",
       "      <td>RT The Monero Coffee Chat starts now</td>\n",
       "    </tr>\n",
       "    <tr>\n",
       "      <th>4</th>\n",
       "      <td>Bitcoin BTC Could Be Gearing up For a Big Move...</td>\n",
       "      <td>RT HOT is on a mission to get into the top 20 ...</td>\n",
       "      <td>Make money trading on Binance The best Crypto ...</td>\n",
       "      <td>RT C4fe Today I found the WORST Bitcoin ATM in...</td>\n",
       "      <td>RT 235 DApps and 3 5 Billion in Transactions P...</td>\n",
       "      <td>RT This is why you should always be civil with...</td>\n",
       "      <td>RT LTK ETH trading pair is available on EtherF...</td>\n",
       "      <td>USA Politik in Venezuela mit Abby Martin Greg ...</td>\n",
       "      <td>The Current Price of Cardano is 0 042690 0 12 ...</td>\n",
       "      <td>NuevaFotoDePerfil Chivas LIGABancomerMX Lider ...</td>\n",
       "    </tr>\n",
       "  </tbody>\n",
       "</table>\n",
       "</div>"
      ],
      "text/plain": [
       "                                             Bitcoin  \\\n",
       "0  Moving on to sealed case 19 17 Now case no 1 1...   \n",
       "1           LocalBitcoins Hacked bitcoin altcoin ico   \n",
       "2  RT Imagine you have a vault full of gold that ...   \n",
       "3  RT Giving away 300 worth of Bitcoin Retweet an...   \n",
       "4  Bitcoin BTC Could Be Gearing up For a Big Move...   \n",
       "\n",
       "                                            Ethereum  \\\n",
       "0  RT Tron TRX Continues Market Explosion Floods ...   \n",
       "1  RT This is why you should always be civil with...   \n",
       "2  BeLLCoin BeLLPlatform BeLLDEX blockchain ether...   \n",
       "3    Buy GHT token here GHT explainer Telegram group   \n",
       "4  RT HOT is on a mission to get into the top 20 ...   \n",
       "\n",
       "                                                 XRP  \\\n",
       "0                                            RT Boom   \n",
       "1  RT Giving away 300 worth of Bitcoin Retweet an...   \n",
       "2                 Stupid XRP shillers fuck that cult   \n",
       "3  RT Is the easiest way for people in the states...   \n",
       "4  Make money trading on Binance The best Crypto ...   \n",
       "\n",
       "                                        Bitcoin Cash  \\\n",
       "0  RT C4fe Today I found the WORST Bitcoin ATM in...   \n",
       "1  RT C4fe Today I found the WORST Bitcoin ATM in...   \n",
       "2  RT Me We are glad to announce that Exrates exc...   \n",
       "3  RT BITCOIN X BTX amp CITRON CASH XCT Holders a...   \n",
       "4  RT C4fe Today I found the WORST Bitcoin ATM in...   \n",
       "\n",
       "                                                 EOS  \\\n",
       "0  235 DApps and 3 5 Billion in Transactions Prom...   \n",
       "1  Prices update in USDT 1 hour EOS 2 42 0 12 ADA...   \n",
       "2  RT charlie 400 000 VEY Giveaway worth 240 Foll...   \n",
       "3  Tron battle with Eos over No 5 spot on CMC COM...   \n",
       "4  RT 235 DApps and 3 5 Billion in Transactions P...   \n",
       "\n",
       "                                             Stellar  \\\n",
       "0  RT My department is making sure student evalua...   \n",
       "1  I hope everyone is having a stellar Saturday T...   \n",
       "2  I ve seen other journos do a stellar job of th...   \n",
       "3  RT A STELLAR concert performance film by the h...   \n",
       "4  RT This is why you should always be civil with...   \n",
       "\n",
       "                                            Litecoin  \\\n",
       "0  LitecoinFam PayWithLitecoin TheLitecoinApp Ign...   \n",
       "1  LitecoinFam PayWithLitecoin TheLitecoinApp Ign...   \n",
       "2  RT Since noticing it s mining profitability wa...   \n",
       "3                  RT Website github slack coincodex   \n",
       "4  RT LTK ETH trading pair is available on EtherF...   \n",
       "\n",
       "                                              Tether  \\\n",
       "0  RT My next Samus video I ll be showcasing this...   \n",
       "1  RT Quand les astronautes d Apollo 17 installai...   \n",
       "2  RT I surrender to the wind like a kite without...   \n",
       "3  ePortfolio pedagogies curriculum lend themselv...   \n",
       "4  USA Politik in Venezuela mit Abby Martin Greg ...   \n",
       "\n",
       "                                             Cardano  \\\n",
       "0  j meinti s s tekur lengri t ma v verri v lb na...   \n",
       "1  crypto gets 4words or less Cardano ADA Layered...   \n",
       "2  My lambo with bitcoin Register Now amp Start B...   \n",
       "3  RT Bitcoiners be like Register Now amp Start B...   \n",
       "4  The Current Price of Cardano is 0 042690 0 12 ...   \n",
       "\n",
       "                                              Monero  \n",
       "0               RT The Monero Coffee Chat starts now  \n",
       "1                     What an endorsement for Monero  \n",
       "2                               Libre y doble Monero  \n",
       "3               RT The Monero Coffee Chat starts now  \n",
       "4  NuevaFotoDePerfil Chivas LIGABancomerMX Lider ...  "
      ]
     },
     "execution_count": 8,
     "metadata": {},
     "output_type": "execute_result"
    }
   ],
   "source": [
    "datac.head()"
   ]
  },
  {
   "cell_type": "code",
   "execution_count": 9,
   "metadata": {},
   "outputs": [],
   "source": [
    "datac_SA = dict()\n",
    "for key,value in datac.iteritems():\n",
    "    datac_SA[key] = np.array([analize_sentiment(tweet) for tweet in datac[key]] )"
   ]
  },
  {
   "cell_type": "code",
   "execution_count": 10,
   "metadata": {},
   "outputs": [
    {
     "data": {
      "text/plain": [
       "{'Bitcoin': array([ 0,  0,  1, -1,  0,  0,  1,  1,  1,  0,  1,  1,  1,  1, -1,  0,  0,\n",
       "         0,  0,  1,  0,  0,  0,  0,  0,  1,  0, -1,  0,  1,  0, -1,  0,  0,\n",
       "         1,  0,  1,  0,  0,  1,  0,  1,  0,  0,  0, -1, -1,  1, -1,  1, -1,\n",
       "         1,  1,  0,  1,  0,  0, -1,  0,  1, -1,  1,  1,  0, -1,  0, -1,  0,\n",
       "         0,  0,  1,  0,  1,  0,  0,  1, -1,  0, -1,  1,  1,  0,  1,  0, -1,\n",
       "         1, -1,  0,  1,  0,  0,  0,  0,  0,  0,  1,  1,  1, -1,  1]),\n",
       " 'Bitcoin Cash': array([-1, -1,  1,  0, -1,  0, -1,  1,  0,  1,  0,  0,  0,  0,  1,  0,  1,\n",
       "         0,  1,  1,  1,  0,  0,  0,  0,  0,  1,  0,  1,  0, -1,  0,  0,  0,\n",
       "         0,  1,  0,  1,  1,  1,  1,  1,  1, -1,  1, -1,  1,  0,  0,  0,  0,\n",
       "         1,  0,  1,  0,  0,  0,  1,  0,  0,  1,  0,  1,  1,  1,  0,  0,  1,\n",
       "         0,  1,  1,  0,  0,  1,  0,  1,  0,  0, -1,  0,  0,  1,  0,  0,  0,\n",
       "         0,  0,  0,  0,  0,  0,  0,  0,  1,  0,  0,  0, -1,  0,  0]),\n",
       " 'Cardano': array([ 0, -1,  0,  0, -1,  0,  0,  0,  1, -1,  0,  1,  0,  1,  0,  0,  1,\n",
       "         1,  0, -1,  0,  0,  0,  0,  0,  0,  0,  0,  0,  0,  0,  0,  0,  0,\n",
       "         0,  0,  0,  0,  0,  0,  0,  0,  0,  1,  0,  0,  0, -1,  1,  1,  0,\n",
       "         0,  1,  1,  1,  1,  1,  0,  1,  0, -1,  0,  0,  0,  1,  1,  0, -1,\n",
       "         0,  0,  0,  0,  0,  1,  0,  0,  1,  0,  1,  1,  0,  0,  0,  0,  1,\n",
       "         0,  0,  0, -1,  0,  0, -1,  0,  1,  1, -1,  1,  0,  0,  0]),\n",
       " 'EOS': array([ 1,  0,  1,  1,  1,  1,  1,  1,  1, -1,  1,  1,  1,  1,  0,  0,  1,\n",
       "         0,  1,  0,  1,  1,  1,  1,  0,  1,  1, -1,  1,  1,  1,  1,  0,  0,\n",
       "         1,  1,  1,  0,  1, -1, -1,  0,  0,  1,  0,  0,  0,  0,  1,  1,  0,\n",
       "         1,  0,  1,  1,  0,  0,  1,  1,  1,  0,  1,  1,  0,  0,  0,  0,  0,\n",
       "         1,  0,  0,  1,  1,  1,  0,  0, -1,  1,  0,  1,  1,  1,  0,  1,  0,\n",
       "         1,  0,  0,  1,  0,  1,  0,  0,  0,  1,  0,  1,  1,  0,  1]),\n",
       " 'Ethereum': array([ 1, -1,  0,  0,  1,  0,  1, -1,  1, -1,  0, -1,  1,  0,  1,  1,  1,\n",
       "        -1,  1,  1,  1,  0,  1,  1,  1, -1,  0,  1,  0,  0, -1,  0,  1,  0,\n",
       "         0,  0,  0,  0,  0,  1,  1,  0, -1,  1,  0,  0,  1, -1,  0,  0,  0,\n",
       "         1,  1, -1, -1,  1,  0,  1,  0,  1,  0,  1, -1,  1,  0,  1,  1,  1,\n",
       "         1,  0,  1,  0,  1,  0,  0,  1,  1,  1,  0,  0,  0,  0,  0,  0, -1,\n",
       "         1,  1,  1,  0,  1,  0,  1,  0,  0,  1, -1, -1,  0,  0,  0]),\n",
       " 'Litecoin': array([ 0,  0,  1,  0,  1,  1, -1,  0,  0,  0,  1,  0,  0,  0,  1,  1,  1,\n",
       "         1,  0, -1,  1,  0,  1,  0,  1,  0,  1,  1,  0,  1,  0,  0,  0,  0,\n",
       "        -1,  1,  1,  1,  0,  1, -1,  1,  0,  1,  1,  1,  1,  0,  1,  1,  1,\n",
       "         0,  1,  1,  1,  1,  0,  0,  0,  1,  1,  1,  0,  0,  1,  1,  1,  1,\n",
       "         0,  0,  0,  1,  0,  1,  1,  1,  0,  1, -1,  0,  0,  1,  1,  0,  1,\n",
       "         0,  0,  0,  0,  0,  0,  1,  1,  0,  0,  0,  1,  1,  1,  1]),\n",
       " 'Monero': array([ 0,  0,  0,  0,  0,  1,  1, -1,  0,  0,  0,  0,  0,  0,  0,  0,  1,\n",
       "         0,  0,  0,  0,  0,  0,  0,  0,  0,  0,  0,  1,  1,  1,  1,  0,  0,\n",
       "         0,  0,  1,  0,  0,  0,  1,  0,  0,  0,  0,  0,  0,  0,  1,  1,  0,\n",
       "         0,  0,  0,  0,  0,  0,  0,  1,  1,  1,  1,  0,  1,  0,  1,  0,  0,\n",
       "         1,  0,  0,  0,  0,  1,  0,  1,  1,  0,  0,  1,  0,  1,  0,  0,  1,\n",
       "         1,  0,  1,  1,  1,  1,  1,  0, -1,  1,  0,  1,  0,  1,  1]),\n",
       " 'Stellar': array([ 1,  1, -1,  1, -1,  1,  1,  1,  0,  1, -1,  1,  1,  1,  1, -1,  1,\n",
       "         1,  1,  1,  1,  1, -1,  1,  1, -1,  1,  1,  1,  1,  0,  0,  1,  1,\n",
       "         1,  1,  1,  0,  1,  0,  1,  1,  1,  1,  1,  1,  0,  1,  1,  1,  1,\n",
       "         1,  1,  0,  1,  1,  1, -1,  1,  1,  1,  1,  1,  1,  1,  0, -1, -1,\n",
       "         1,  1,  1, -1,  1,  1,  1,  1,  1,  0,  1,  1,  1,  1,  1,  1,  1,\n",
       "         1,  1,  0, -1,  1,  1,  1,  1,  1,  1,  1,  1,  1, -1,  1]),\n",
       " 'Tether': array([ 0,  0,  1, -1,  0,  0,  0,  0,  0,  1,  0, -1,  1,  0,  0,  1,  0,\n",
       "         0,  0,  1,  1,  0,  0,  1,  1,  1,  1,  0,  0,  1,  1,  0,  1,  0,\n",
       "         1,  1,  0, -1,  0,  0,  1,  0,  1,  0,  1,  0,  0,  0,  1,  1,  1,\n",
       "        -1,  1,  0,  1,  1,  0,  1,  1,  1,  1,  1,  0,  1,  0, -1,  1,  0,\n",
       "         0,  1, -1,  1,  0,  0, -1,  0,  0,  0, -1,  1,  0,  1,  0,  0,  0,\n",
       "         1,  0,  1,  1,  0,  0,  1,  0,  1,  0,  0,  0,  0,  0,  0]),\n",
       " 'XRP': array([ 0, -1, -1,  0,  1,  0,  0,  1,  1,  0,  1,  1,  0,  1, -1,  0,  1,\n",
       "         0,  1,  1,  0,  1, -1, -1,  1,  1,  1,  0,  1,  1,  0,  0,  1,  0,\n",
       "         0, -1,  1,  0,  1,  1, -1,  0,  1,  1, -1,  1,  1,  0,  1, -1,  0,\n",
       "         0,  0,  1, -1,  0,  0,  0, -1, -1,  0,  0,  1,  0,  1,  1,  0,  0,\n",
       "         0,  1,  1,  0,  0, -1,  0,  0,  0,  1, -1,  0,  0,  1,  1,  1,  0,\n",
       "         1,  1,  0,  1,  1,  1, -1,  1,  0,  1,  0,  1,  0,  1,  1])}"
      ]
     },
     "execution_count": 10,
     "metadata": {},
     "output_type": "execute_result"
    }
   ],
   "source": [
    "datac_SA"
   ]
  },
  {
   "cell_type": "code",
   "execution_count": 11,
   "metadata": {},
   "outputs": [
    {
     "name": "stdout",
     "output_type": "stream",
     "text": [
      "{'Bitcoin': 18, 'Ethereum': 27, 'XRP': 29, 'Bitcoin Cash': 24, 'EOS': 50, 'Stellar': 66, 'Litecoin': 46, 'Tether': 32, 'Cardano': 14, 'Monero': 32}\n"
     ]
    }
   ],
   "source": [
    "SA = {key: sum(datac_SA[key]) for key in datac_SA}\n",
    "print(SA)"
   ]
  },
  {
   "cell_type": "code",
   "execution_count": 12,
   "metadata": {
    "collapsed": true
   },
   "outputs": [],
   "source": [
    "SA = sorted(SA.items(), key=lambda d: (-d[1], d[0]))"
   ]
  },
  {
   "cell_type": "code",
   "execution_count": 13,
   "metadata": {},
   "outputs": [
    {
     "data": {
      "text/plain": [
       "[('Stellar', 66),\n",
       " ('EOS', 50),\n",
       " ('Litecoin', 46),\n",
       " ('Monero', 32),\n",
       " ('Tether', 32),\n",
       " ('XRP', 29),\n",
       " ('Ethereum', 27),\n",
       " ('Bitcoin Cash', 24),\n",
       " ('Bitcoin', 18),\n",
       " ('Cardano', 14)]"
      ]
     },
     "execution_count": 13,
     "metadata": {},
     "output_type": "execute_result"
    }
   ],
   "source": [
    "SA"
   ]
  },
  {
   "cell_type": "code",
   "execution_count": 14,
   "metadata": {},
   "outputs": [
    {
     "data": {
      "text/html": [
       "<div>\n",
       "<style scoped>\n",
       "    .dataframe tbody tr th:only-of-type {\n",
       "        vertical-align: middle;\n",
       "    }\n",
       "\n",
       "    .dataframe tbody tr th {\n",
       "        vertical-align: top;\n",
       "    }\n",
       "\n",
       "    .dataframe thead th {\n",
       "        text-align: right;\n",
       "    }\n",
       "</style>\n",
       "<table border=\"1\" class=\"dataframe\">\n",
       "  <thead>\n",
       "    <tr style=\"text-align: right;\">\n",
       "      <th></th>\n",
       "      <th>cryptocurrency names</th>\n",
       "      <th>sentiment score</th>\n",
       "    </tr>\n",
       "  </thead>\n",
       "  <tbody>\n",
       "    <tr>\n",
       "      <th>0</th>\n",
       "      <td>Stellar</td>\n",
       "      <td>66</td>\n",
       "    </tr>\n",
       "    <tr>\n",
       "      <th>1</th>\n",
       "      <td>EOS</td>\n",
       "      <td>50</td>\n",
       "    </tr>\n",
       "    <tr>\n",
       "      <th>2</th>\n",
       "      <td>Litecoin</td>\n",
       "      <td>46</td>\n",
       "    </tr>\n",
       "    <tr>\n",
       "      <th>3</th>\n",
       "      <td>Monero</td>\n",
       "      <td>32</td>\n",
       "    </tr>\n",
       "    <tr>\n",
       "      <th>4</th>\n",
       "      <td>Tether</td>\n",
       "      <td>32</td>\n",
       "    </tr>\n",
       "    <tr>\n",
       "      <th>5</th>\n",
       "      <td>XRP</td>\n",
       "      <td>29</td>\n",
       "    </tr>\n",
       "    <tr>\n",
       "      <th>6</th>\n",
       "      <td>Ethereum</td>\n",
       "      <td>27</td>\n",
       "    </tr>\n",
       "    <tr>\n",
       "      <th>7</th>\n",
       "      <td>Bitcoin Cash</td>\n",
       "      <td>24</td>\n",
       "    </tr>\n",
       "    <tr>\n",
       "      <th>8</th>\n",
       "      <td>Bitcoin</td>\n",
       "      <td>18</td>\n",
       "    </tr>\n",
       "    <tr>\n",
       "      <th>9</th>\n",
       "      <td>Cardano</td>\n",
       "      <td>14</td>\n",
       "    </tr>\n",
       "  </tbody>\n",
       "</table>\n",
       "</div>"
      ],
      "text/plain": [
       "  cryptocurrency names  sentiment score\n",
       "0              Stellar               66\n",
       "1                  EOS               50\n",
       "2             Litecoin               46\n",
       "3               Monero               32\n",
       "4               Tether               32\n",
       "5                  XRP               29\n",
       "6             Ethereum               27\n",
       "7         Bitcoin Cash               24\n",
       "8              Bitcoin               18\n",
       "9              Cardano               14"
      ]
     },
     "execution_count": 14,
     "metadata": {},
     "output_type": "execute_result"
    }
   ],
   "source": [
    "SA1 = pd.DataFrame(SA, columns=['cryptocurrency names', 'sentiment score'])\n",
    "SA1"
   ]
  },
  {
   "cell_type": "code",
   "execution_count": 15,
   "metadata": {},
   "outputs": [
    {
     "data": {
      "image/png": "[encoded data removed]",
      "text/plain": [
       "<Figure size 1008x792 with 1 Axes>"
      ]
     },
     "metadata": {},
     "output_type": "display_data"
    }
   ],
   "source": [
    "plt.figure(figsize=(14,11))\n",
    "ax = sns.barplot(y=SA1['cryptocurrency names'],x=SA1['sentiment score'],\n",
    "            linewidth = 1.5, edgecolor = \"k\"*10, palette  = \"Spectral_r\")\n",
    "sns.set(font_scale=1.5),plt.title(\"Twitter Sentiment analysis\");"
   ]
  }
 ],
 "metadata": {
  "kernelspec": {
   "display_name": "Python 3",
   "language": "python",
   "name": "python3"
  },
  "language_info": {
   "codemirror_mode": {
    "name": "ipython",
    "version": 3
   },
   "file_extension": ".py",
   "mimetype": "text/x-python",
   "name": "python",
   "nbconvert_exporter": "python",
   "pygments_lexer": "ipython3",
   "version": "3.6.2"
  }
 },
 "nbformat": 4,
 "nbformat_minor": 2
}
